{
 "cells": [
  {
   "cell_type": "code",
   "execution_count": 1,
   "metadata": {},
   "outputs": [],
   "source": [
    "import numpy as np\n",
    "import json\n",
    "from styles import styles, styles_count\n",
    "import copy\n",
    "import itertools\n",
    "import random\n"
   ]
  },
  {
   "cell_type": "markdown",
   "metadata": {},
   "source": [
    "## Styles generator"
   ]
  },
  {
   "cell_type": "code",
   "execution_count": 4,
   "metadata": {},
   "outputs": [],
   "source": [
    "class StyleGenerator:\n",
    "\n",
    "\n",
    "    def __init__(self, styles, styles_count):\n",
    "        self.styles = list(styles.items())\n",
    "\n",
    "        data = copy.deepcopy(list(styles_count.values()))\n",
    "\n",
    "        for i in range(len(data)):\n",
    "            for j in range(len(data[i])):\n",
    "                data[i][j] = data[i][j] + 1 #MLE\n",
    "\n",
    "        for i in range(len(data)):\n",
    "            for j in range(len(data[i])):\n",
    "                data[i][j] = data[i][j]/sum(data[i])\n",
    "\n",
    "        self.combs_indx = list(itertools.product(*[list(range(len(i))) for i in data]))\n",
    "\n",
    "        self.weights = []\n",
    "        for i in self.combs_indx:\n",
    "            w = 1\n",
    "            for j in range(len(i)):\n",
    "                w *= data[j][i[j]]\n",
    "            self.weights.append(w)\n",
    "        \n",
    "    def generate(self):\n",
    "        idx = random.choices(list(range(len(self.combs_indx))), weights=self.weights, k=1)[0]\n",
    "        comb = self.combs_indx[idx]\n",
    "        res = \"\"\n",
    "        for i in range(len(comb)):\n",
    "            res = res + self.styles[i][0] + ': '\n",
    "            res = res + self.styles[i][1][comb[i]] + '\\n'\n",
    "        return res, self.weights[idx]\n",
    "\n",
    "        \n",
    "        "
   ]
  },
  {
   "cell_type": "code",
   "execution_count": 5,
   "metadata": {},
   "outputs": [],
   "source": [
    "generator = StyleGenerator(styles, styles_count)\n"
   ]
  },
  {
   "cell_type": "code",
   "execution_count": 6,
   "metadata": {},
   "outputs": [
    {
     "name": "stdout",
     "output_type": "stream",
     "text": [
      "Style #0, prob=0.026645744545912533\n",
      "прическа: нет волос\n",
      "цвет волос: серебристо серый\n",
      "аксесуар: солнцезащитные очки\n",
      "одежда: комбинезон\n",
      "цвет одежды: красный\n",
      "\n",
      "\n",
      "Style #1, prob=0.035146291906090976\n",
      "прическа: короткая прямые\n",
      "цвет волос: рыжий\n",
      "аксесуар: круглые очки\n",
      "одежда: футболка с V-вырезом\n",
      "цвет одежды: красный\n",
      "\n",
      "\n",
      "Style #2, prob=0.1835853085249262\n",
      "прическа: короткая прямые\n",
      "цвет волос: серебристо серый\n",
      "аксесуар: круглые очки\n",
      "одежда: футболка с круглым вырезом\n",
      "цвет одежды: белый\n",
      "\n",
      "\n",
      "Style #3, prob=0.19331139668826777\n",
      "прическа: короткая курчавые\n",
      "цвет волос: серебристо серый\n",
      "аксесуар: круглые очки\n",
      "одежда: футболка с V-вырезом\n",
      "цвет одежды: красный\n",
      "\n",
      "\n",
      "Style #4, prob=0.08707812457143604\n",
      "прическа: короткая курчавые\n",
      "цвет волос: серебристо серый\n",
      "аксесуар: круглые очки\n",
      "одежда: футболка с V-вырезом\n",
      "цвет одежды: зеленый\n",
      "\n",
      "\n"
     ]
    }
   ],
   "source": [
    "for i in range(5):\n",
    "    comb, prob = generator.generate()\n",
    "    print(f\"Style #{i}, prob={prob}\")\n",
    "    print(comb + '\\n')"
   ]
  },
  {
   "cell_type": "markdown",
   "metadata": {},
   "source": [
    "## Avatar generator"
   ]
  },
  {
   "cell_type": "code",
   "execution_count": 7,
   "metadata": {},
   "outputs": [],
   "source": [
    "import os\n",
    "import numpy as np\n",
    "import cv2"
   ]
  },
  {
   "cell_type": "code",
   "execution_count": 16,
   "metadata": {},
   "outputs": [],
   "source": [
    "class AvatarGenerator:\n",
    "    \"\"\"\n",
    "    Генератор аватаров\n",
    "    Значения каждого канала каждого пикселя генерируются отдельно\n",
    "    \"\"\"\n",
    "\n",
    "    def __init__(self, images, mle=False):\n",
    "        images = np.stack(images, axis=3)\n",
    "        probs = np.zeros([*images.shape[:3], 256], dtype=np.float32)\n",
    "        for i in range(images.shape[0]):\n",
    "            for j in range(images.shape[1]):\n",
    "                for k in range(images.shape[2]):\n",
    "                    unique, unique_counts = np.unique(images[i, j, k], return_counts=True)\n",
    "                    for t in range(unique.shape[0]):\n",
    "                        probs[i, j, k, unique[t]] += unique_counts[t]\n",
    "        #mle\n",
    "        if mle:\n",
    "            probs = probs + 1\n",
    "        for i in range(images.shape[0]):\n",
    "            for j in range(images.shape[1]):\n",
    "                for k in range(images.shape[2]):\n",
    "                    probs[i, j, k] /= np.sum(probs[i, j, k])\n",
    "        self.probs = probs\n",
    "        \n",
    "    def generate(self):\n",
    "        values = list(range(256))\n",
    "        gen_img = np.zeros(self.probs.shape[:3], dtype=np.uint8)\n",
    "        for i in range(self.probs.shape[0]):\n",
    "            for j in range(self.probs.shape[1]):\n",
    "                for k in range(self.probs.shape[2]):\n",
    "                    val = random.choices(values, weights=self.probs[i, j, k].tolist(), k=1)[0]\n",
    "                    gen_img[i, j, k] = val\n",
    "                    \n",
    "        return gen_img\n",
    "\n",
    "        \n",
    "        "
   ]
  },
  {
   "cell_type": "markdown",
   "metadata": {},
   "source": [
    "Сначала проетстируем генерацию аватаров без MLE"
   ]
  },
  {
   "cell_type": "code",
   "execution_count": 17,
   "metadata": {},
   "outputs": [],
   "source": [
    "image_names = os.listdir('./avatars')\n",
    "images = []\n",
    "for i in image_names:\n",
    "    img = cv2.imread(os.path.join('./avatars', i))\n",
    "    images.append(img)\n",
    "generator = AvatarGenerator(images)"
   ]
  },
  {
   "cell_type": "code",
   "execution_count": 10,
   "metadata": {},
   "outputs": [
    {
     "data": {
      "text/plain": [
       "True"
      ]
     },
     "execution_count": 10,
     "metadata": {},
     "output_type": "execute_result"
    }
   ],
   "source": [
    "cv2.imwrite('test.png', generator.generate())\n",
    "cv2.imwrite('test1.png', generator.generate())\n",
    "cv2.imwrite('test2.png', generator.generate())"
   ]
  },
  {
   "cell_type": "markdown",
   "metadata": {},
   "source": [
    "![title](test.png)\n",
    "\n",
    "![title](test1.png)\n",
    "\n",
    "![title](test2.png)"
   ]
  },
  {
   "cell_type": "markdown",
   "metadata": {},
   "source": [
    "Теперь попробуем генерацию с MLE\n",
    "\n",
    "Как можно заметить, для данного алгоритма генерации добавление MLE превращает сгенерированные аватары в шум"
   ]
  },
  {
   "cell_type": "code",
   "execution_count": 11,
   "metadata": {},
   "outputs": [
    {
     "data": {
      "text/plain": [
       "True"
      ]
     },
     "execution_count": 11,
     "metadata": {},
     "output_type": "execute_result"
    }
   ],
   "source": [
    "generator = AvatarGenerator(images, mle=True)\n",
    "cv2.imwrite('test4_mle.png', generator.generate())\n",
    "cv2.imwrite('test5_mle.png', generator.generate())"
   ]
  },
  {
   "cell_type": "markdown",
   "metadata": {},
   "source": [
    "![title](test4_mle.png)\n",
    "\n",
    "![title](test5_mle.png)"
   ]
  },
  {
   "cell_type": "code",
   "execution_count": null,
   "metadata": {},
   "outputs": [],
   "source": []
  },
  {
   "cell_type": "code",
   "execution_count": null,
   "metadata": {},
   "outputs": [],
   "source": []
  },
  {
   "cell_type": "code",
   "execution_count": null,
   "metadata": {},
   "outputs": [],
   "source": []
  }
 ],
 "metadata": {
  "kernelspec": {
   "display_name": "ml_services",
   "language": "python",
   "name": "python3"
  },
  "language_info": {
   "codemirror_mode": {
    "name": "ipython",
    "version": 3
   },
   "file_extension": ".py",
   "mimetype": "text/x-python",
   "name": "python",
   "nbconvert_exporter": "python",
   "pygments_lexer": "ipython3",
   "version": "3.8.18"
  }
 },
 "nbformat": 4,
 "nbformat_minor": 2
}
